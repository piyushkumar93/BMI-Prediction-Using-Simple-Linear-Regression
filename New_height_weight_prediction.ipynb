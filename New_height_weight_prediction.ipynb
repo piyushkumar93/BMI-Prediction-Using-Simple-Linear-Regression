{
 "cells": [
  {
   "cell_type": "markdown",
   "id": "6b1b043d",
   "metadata": {},
   "source": [
    "### Import necessary libraries\n",
    "This block imports essential libraries like pandas for data handling, matplotlib/seaborn for visualization, and numpy for numerical operations."
   ]
  },
  {
   "cell_type": "code",
   "id": "initial_id",
   "metadata": {
    "collapsed": true,
    "ExecuteTime": {
     "end_time": "2025-07-06T21:10:19.806978Z",
     "start_time": "2025-07-06T21:10:19.788104Z"
    }
   },
   "source": [
    "import pandas as pd\n",
    "import matplotlib.pyplot as plt\n",
    "import numpy as np\n",
    "%matplotlib inline"
   ],
   "outputs": [],
   "execution_count": 1
  },
  {
   "cell_type": "markdown",
   "id": "4d2b9ee7",
   "metadata": {},
   "source": [
    "### Load the dataset\n",
    "Read the CSV file containing height and weight data. Drop the unnecessary 'Index' column."
   ]
  },
  {
   "cell_type": "code",
   "id": "c6191654b46c0440",
   "metadata": {
    "ExecuteTime": {
     "end_time": "2025-07-06T21:10:19.848734Z",
     "start_time": "2025-07-06T21:10:19.821486Z"
    }
   },
   "source": [
    "df=pd.read_csv('height_weight_data.csv')\n",
    "df.drop('Index',axis=1,inplace = True)"
   ],
   "outputs": [],
   "execution_count": 2
  },
  {
   "cell_type": "markdown",
   "id": "e23f3f78",
   "metadata": {},
   "source": [
    "### Preview the dataset\n",
    "Display the first few rows to understand the structure of the data."
   ]
  },
  {
   "cell_type": "code",
   "id": "efaa215d90857fe6",
   "metadata": {
    "ExecuteTime": {
     "end_time": "2025-07-06T21:10:20.430938Z",
     "start_time": "2025-07-06T21:10:20.420642Z"
    }
   },
   "source": [
    "df.head()"
   ],
   "outputs": [
    {
     "data": {
      "text/plain": [
       "   Height (Inches)  Weight (Pounds)\n",
       "0            65.78           112.99\n",
       "1            71.52           136.49\n",
       "2            69.40           153.03\n",
       "3            68.22           142.34\n",
       "4            67.79           144.30"
      ],
      "text/html": [
       "<div>\n",
       "<style scoped>\n",
       "    .dataframe tbody tr th:only-of-type {\n",
       "        vertical-align: middle;\n",
       "    }\n",
       "\n",
       "    .dataframe tbody tr th {\n",
       "        vertical-align: top;\n",
       "    }\n",
       "\n",
       "    .dataframe thead th {\n",
       "        text-align: right;\n",
       "    }\n",
       "</style>\n",
       "<table border=\"1\" class=\"dataframe\">\n",
       "  <thead>\n",
       "    <tr style=\"text-align: right;\">\n",
       "      <th></th>\n",
       "      <th>Height (Inches)</th>\n",
       "      <th>Weight (Pounds)</th>\n",
       "    </tr>\n",
       "  </thead>\n",
       "  <tbody>\n",
       "    <tr>\n",
       "      <th>0</th>\n",
       "      <td>65.78</td>\n",
       "      <td>112.99</td>\n",
       "    </tr>\n",
       "    <tr>\n",
       "      <th>1</th>\n",
       "      <td>71.52</td>\n",
       "      <td>136.49</td>\n",
       "    </tr>\n",
       "    <tr>\n",
       "      <th>2</th>\n",
       "      <td>69.40</td>\n",
       "      <td>153.03</td>\n",
       "    </tr>\n",
       "    <tr>\n",
       "      <th>3</th>\n",
       "      <td>68.22</td>\n",
       "      <td>142.34</td>\n",
       "    </tr>\n",
       "    <tr>\n",
       "      <th>4</th>\n",
       "      <td>67.79</td>\n",
       "      <td>144.30</td>\n",
       "    </tr>\n",
       "  </tbody>\n",
       "</table>\n",
       "</div>"
      ]
     },
     "execution_count": 3,
     "metadata": {},
     "output_type": "execute_result"
    }
   ],
   "execution_count": 3
  },
  {
   "cell_type": "markdown",
   "id": "82416f3d",
   "metadata": {},
   "source": [
    "###  Visualize the relationship\n",
    "Plot a scatter graph to visualize the relationship between weight and height."
   ]
  },
  {
   "cell_type": "code",
   "id": "2a950fe1007ca4d5",
   "metadata": {
    "ExecuteTime": {
     "end_time": "2025-07-06T21:10:20.603660Z",
     "start_time": "2025-07-06T21:10:20.452390Z"
    }
   },
   "source": [
    "##scatter plot\n",
    "plt.scatter(df[' Weight (Pounds)'],df[' Height (Inches)'])\n",
    "plt.xlabel('Weight')\n",
    "plt.ylabel(\"Height\")"
   ],
   "outputs": [
    {
     "data": {
      "text/plain": [
       "Text(0, 0.5, 'Height')"
      ]
     },
     "execution_count": 4,
     "metadata": {},
     "output_type": "execute_result"
    },
    {
     "data": {
      "text/plain": [
       "<Figure size 640x480 with 1 Axes>"
      ],
      "image/png": "[encoded data removed]"
     },
     "metadata": {},
     "output_type": "display_data"
    }
   ],
   "execution_count": 4
  },
  {
   "cell_type": "markdown",
   "id": "6dc576aa",
   "metadata": {},
   "source": [
    "### Check correlation\n",
    "Calculate the correlation between the variables."
   ]
  },
  {
   "cell_type": "code",
   "id": "e3395ad755f5d30c",
   "metadata": {
    "ExecuteTime": {
     "end_time": "2025-07-06T21:10:20.647048Z",
     "start_time": "2025-07-06T21:10:20.636103Z"
    }
   },
   "source": [
    "##Correlation\n",
    "df.corr()"
   ],
   "outputs": [
    {
     "data": {
      "text/plain": [
       "                 Height (Inches)  Weight (Pounds)\n",
       "Height (Inches)         1.000000         0.556865\n",
       "Weight (Pounds)         0.556865         1.000000"
      ],
      "text/html": [
       "<div>\n",
       "<style scoped>\n",
       "    .dataframe tbody tr th:only-of-type {\n",
       "        vertical-align: middle;\n",
       "    }\n",
       "\n",
       "    .dataframe tbody tr th {\n",
       "        vertical-align: top;\n",
       "    }\n",
       "\n",
       "    .dataframe thead th {\n",
       "        text-align: right;\n",
       "    }\n",
       "</style>\n",
       "<table border=\"1\" class=\"dataframe\">\n",
       "  <thead>\n",
       "    <tr style=\"text-align: right;\">\n",
       "      <th></th>\n",
       "      <th>Height (Inches)</th>\n",
       "      <th>Weight (Pounds)</th>\n",
       "    </tr>\n",
       "  </thead>\n",
       "  <tbody>\n",
       "    <tr>\n",
       "      <th>Height (Inches)</th>\n",
       "      <td>1.000000</td>\n",
       "      <td>0.556865</td>\n",
       "    </tr>\n",
       "    <tr>\n",
       "      <th>Weight (Pounds)</th>\n",
       "      <td>0.556865</td>\n",
       "      <td>1.000000</td>\n",
       "    </tr>\n",
       "  </tbody>\n",
       "</table>\n",
       "</div>"
      ]
     },
     "execution_count": 5,
     "metadata": {},
     "output_type": "execute_result"
    }
   ],
   "execution_count": 5
  },
  {
   "cell_type": "markdown",
   "id": "d89ac421",
   "metadata": {},
   "source": [
    "###  Seaborn Pairplot\n",
    "Use seaborn to visualize pairwise relationships."
   ]
  },
  {
   "cell_type": "code",
   "id": "4c7db86358b71517",
   "metadata": {
    "ExecuteTime": {
     "end_time": "2025-07-06T21:10:21.296489Z",
     "start_time": "2025-07-06T21:10:20.722842Z"
    }
   },
   "source": [
    "## Seaborn for Visualization\n",
    "import seaborn as sns\n",
    "sns.pairplot(df)\n",
    "##The graph shows simple linear regression"
   ],
   "outputs": [
    {
     "data": {
      "text/plain": [
       "<seaborn.axisgrid.PairGrid at 0x1c3dda2b950>"
      ]
     },
     "execution_count": 6,
     "metadata": {},
     "output_type": "execute_result"
    },
    {
     "data": {
      "text/plain": [
       "<Figure size 500x500 with 6 Axes>"
      ],
      "image/png": "[encoded data removed]"
     },
     "metadata": {},
     "output_type": "display_data"
    }
   ],
   "execution_count": 6
  },
  {
   "cell_type": "markdown",
   "id": "cc96f201",
   "metadata": {},
   "source": [
    "###  Preview the dataset\n",
    "Display the first few rows to understand the structure of the data."
   ]
  },
  {
   "cell_type": "code",
   "id": "c2360e88728b9661",
   "metadata": {
    "ExecuteTime": {
     "end_time": "2025-07-06T21:10:21.332441Z",
     "start_time": "2025-07-06T21:10:21.325017Z"
    }
   },
   "source": [
    "##Independent and Dependent features\n",
    "x=df[[' Weight (Pounds)']] ##independent features should be dataframe or 2 dimensional array\n",
    "y=df[' Height (Inches)'] ##this variable can be in series or id array\n",
    "\n",
    "x.head()\n",
    "y.head()\n"
   ],
   "outputs": [
    {
     "data": {
      "text/plain": [
       "0    65.78\n",
       "1    71.52\n",
       "2    69.40\n",
       "3    68.22\n",
       "4    67.79\n",
       "Name:  Height (Inches), dtype: float64"
      ]
     },
     "execution_count": 7,
     "metadata": {},
     "output_type": "execute_result"
    }
   ],
   "execution_count": 7
  },
  {
   "cell_type": "code",
   "id": "f71f79da8eb6467c",
   "metadata": {
    "ExecuteTime": {
     "end_time": "2025-07-06T21:10:21.385884Z",
     "start_time": "2025-07-06T21:10:21.381050Z"
    }
   },
   "source": [
    "np.array(y).shape"
   ],
   "outputs": [
    {
     "data": {
      "text/plain": [
       "(200,)"
      ]
     },
     "execution_count": 8,
     "metadata": {},
     "output_type": "execute_result"
    }
   ],
   "execution_count": 8
  },
  {
   "cell_type": "markdown",
   "id": "00e30f6e",
   "metadata": {},
   "source": [
    "###  Split the data\n",
    "Split the dataset into training and testing sets using sklearn."
   ]
  },
  {
   "cell_type": "code",
   "id": "ce40a06dccc13b9",
   "metadata": {
    "ExecuteTime": {
     "end_time": "2025-07-06T21:10:21.673230Z",
     "start_time": "2025-07-06T21:10:21.458471Z"
    }
   },
   "source": [
    "##Train Test Split\n",
    "from sklearn.model_selection import train_test_split\n"
   ],
   "outputs": [],
   "execution_count": 9
  },
  {
   "cell_type": "markdown",
   "id": "0d8d8d53",
   "metadata": {},
   "source": [
    "###  Split the data\n",
    "Split the dataset into training and testing sets using sklearn."
   ]
  },
  {
   "cell_type": "code",
   "id": "33ad850599bbd90d",
   "metadata": {
    "ExecuteTime": {
     "end_time": "2025-07-06T21:10:21.687375Z",
     "start_time": "2025-07-06T21:10:21.682248Z"
    }
   },
   "source": [
    "\n",
    "x_train,x_test,y_train,y_test = train_test_split(x,y,test_size=0.25,random_state=42)"
   ],
   "outputs": [],
   "execution_count": 10
  },
  {
   "cell_type": "code",
   "id": "456718fb9ed9b01f",
   "metadata": {
    "ExecuteTime": {
     "end_time": "2025-07-06T21:10:21.702879Z",
     "start_time": "2025-07-06T21:10:21.697880Z"
    }
   },
   "source": [
    "x_train.shape"
   ],
   "outputs": [
    {
     "data": {
      "text/plain": [
       "(150, 1)"
      ]
     },
     "execution_count": 11,
     "metadata": {},
     "output_type": "execute_result"
    }
   ],
   "execution_count": 11
  },
  {
   "cell_type": "markdown",
   "id": "430032a7",
   "metadata": {},
   "source": [
    "###  Feature scaling\n",
    "Standardize the input features to improve model performance."
   ]
  },
  {
   "cell_type": "code",
   "id": "e52480b8079cf234",
   "metadata": {
    "ExecuteTime": {
     "end_time": "2025-07-06T21:10:21.724790Z",
     "start_time": "2025-07-06T21:10:21.721008Z"
    }
   },
   "source": [
    "##Standardization\n",
    "from sklearn.preprocessing import StandardScaler"
   ],
   "outputs": [],
   "execution_count": 12
  },
  {
   "cell_type": "markdown",
   "id": "007b1676",
   "metadata": {},
   "source": [
    "###  Feature scaling\n",
    "Standardize the input features to improve model performance."
   ]
  },
  {
   "cell_type": "code",
   "id": "1e1d860bc5fd39f0",
   "metadata": {
    "ExecuteTime": {
     "end_time": "2025-07-06T21:10:21.757310Z",
     "start_time": "2025-07-06T21:10:21.751394Z"
    }
   },
   "source": [
    "scaler = StandardScaler()\n",
    "x_train = scaler.fit_transform(x_train)"
   ],
   "outputs": [],
   "execution_count": 13
  },
  {
   "cell_type": "code",
   "id": "79e6d2762a95eb8b",
   "metadata": {
    "ExecuteTime": {
     "end_time": "2025-07-06T21:10:21.776336Z",
     "start_time": "2025-07-06T21:10:21.771339Z"
    }
   },
   "source": [
    "x_test = scaler.transform(x_test)"
   ],
   "outputs": [],
   "execution_count": 14
  },
  {
   "cell_type": "code",
   "id": "8c789ead742cb562",
   "metadata": {
    "ExecuteTime": {
     "end_time": "2025-07-06T21:10:21.803652Z",
     "start_time": "2025-07-06T21:10:21.797677Z"
    }
   },
   "source": [
    "x_test"
   ],
   "outputs": [
    {
     "data": {
      "text/plain": [
       "array([[ 0.38762047],\n",
       "       [ 1.07381263],\n",
       "       [-1.99731571],\n",
       "       [ 0.97172063],\n",
       "       [ 1.09389631],\n",
       "       [ 0.11565406],\n",
       "       [-0.20401107],\n",
       "       [-0.38141685],\n",
       "       [ 1.01523525],\n",
       "       [ 0.13322728],\n",
       "       [ 1.2805071 ],\n",
       "       [-1.50610254],\n",
       "       [ 0.00603068],\n",
       "       [-0.96635382],\n",
       "       [ 0.05875032],\n",
       "       [-0.69271378],\n",
       "       [ 2.40435597],\n",
       "       [-0.53120757],\n",
       "       [ 2.36084135],\n",
       "       [-1.97806885],\n",
       "       [-1.69940789],\n",
       "       [ 0.19515194],\n",
       "       [ 0.30059122],\n",
       "       [-1.25756708],\n",
       "       [-1.46928247],\n",
       "       [ 0.13071682],\n",
       "       [ 0.16167915],\n",
       "       [ 0.46711834],\n",
       "       [-0.32451311],\n",
       "       [-0.97137474],\n",
       "       [-0.54375987],\n",
       "       [ 0.89808049],\n",
       "       [ 1.73406338],\n",
       "       [-0.5747222 ],\n",
       "       [-0.14794415],\n",
       "       [-1.05505671],\n",
       "       [ 0.73573747],\n",
       "       [-0.02911575],\n",
       "       [ 0.09557039],\n",
       "       [ 0.95665787],\n",
       "       [-0.38894822],\n",
       "       [ 0.09473357],\n",
       "       [ 0.34996358],\n",
       "       [ 1.22862428],\n",
       "       [ 0.09222311],\n",
       "       [-0.52953393],\n",
       "       [-1.11112363],\n",
       "       [-0.26175163],\n",
       "       [ 0.03448255],\n",
       "       [ 1.14828959]])"
      ]
     },
     "execution_count": 15,
     "metadata": {},
     "output_type": "execute_result"
    }
   ],
   "execution_count": 15
  },
  {
   "cell_type": "markdown",
   "id": "4dd4aa5a",
   "metadata": {},
   "source": [
    "###  Train Linear Regression\n",
    "Fit a linear regression model using the training data."
   ]
  },
  {
   "cell_type": "code",
   "id": "d00cb3016374f5f9",
   "metadata": {
    "ExecuteTime": {
     "end_time": "2025-07-06T21:10:21.919692Z",
     "start_time": "2025-07-06T21:10:21.835382Z"
    }
   },
   "source": [
    "#Apply Linear Regression\n",
    "from sklearn.linear_model import LinearRegression"
   ],
   "outputs": [],
   "execution_count": 16
  },
  {
   "cell_type": "markdown",
   "id": "6c70a298",
   "metadata": {},
   "source": ""
  },
  {
   "cell_type": "code",
   "id": "5fd8cb2eb30aa06c",
   "metadata": {
    "ExecuteTime": {
     "end_time": "2025-07-06T21:10:21.960534Z",
     "start_time": "2025-07-06T21:10:21.956503Z"
    }
   },
   "source": [
    "regression = LinearRegression(n_jobs = -1)"
   ],
   "outputs": [],
   "execution_count": 17
  },
  {
   "cell_type": "code",
   "id": "b17cfa862c9a9c6e",
   "metadata": {
    "ExecuteTime": {
     "end_time": "2025-07-06T21:10:22.034848Z",
     "start_time": "2025-07-06T21:10:22.018737Z"
    }
   },
   "source": [
    "regression.fit(x_train,y_train)"
   ],
   "outputs": [
    {
     "data": {
      "text/plain": [
       "LinearRegression(n_jobs=-1)"
      ],
      "text/html": [
       "<style>#sk-container-id-1 {\n",
       "  /* Definition of color scheme common for light and dark mode */\n",
       "  --sklearn-color-text: #000;\n",
       "  --sklearn-color-text-muted: #666;\n",
       "  --sklearn-color-line: gray;\n",
       "  /* Definition of color scheme for unfitted estimators */\n",
       "  --sklearn-color-unfitted-level-0: #fff5e6;\n",
       "  --sklearn-color-unfitted-level-1: #f6e4d2;\n",
       "  --sklearn-color-unfitted-level-2: #ffe0b3;\n",
       "  --sklearn-color-unfitted-level-3: chocolate;\n",
       "  /* Definition of color scheme for fitted estimators */\n",
       "  --sklearn-color-fitted-level-0: #f0f8ff;\n",
       "  --sklearn-color-fitted-level-1: #d4ebff;\n",
       "  --sklearn-color-fitted-level-2: #b3dbfd;\n",
       "  --sklearn-color-fitted-level-3: cornflowerblue;\n",
       "\n",
       "  /* Specific color for light theme */\n",
       "  --sklearn-color-text-on-default-background: var(--sg-text-color, var(--theme-code-foreground, var(--jp-content-font-color1, black)));\n",
       "  --sklearn-color-background: var(--sg-background-color, var(--theme-background, var(--jp-layout-color0, white)));\n",
       "  --sklearn-color-border-box: var(--sg-text-color, var(--theme-code-foreground, var(--jp-content-font-color1, black)));\n",
       "  --sklearn-color-icon: #696969;\n",
       "\n",
       "  @media (prefers-color-scheme: dark) {\n",
       "    /* Redefinition of color scheme for dark theme */\n",
       "    --sklearn-color-text-on-default-background: var(--sg-text-color, var(--theme-code-foreground, var(--jp-content-font-color1, white)));\n",
       "    --sklearn-color-background: var(--sg-background-color, var(--theme-background, var(--jp-layout-color0, #111)));\n",
       "    --sklearn-color-border-box: var(--sg-text-color, var(--theme-code-foreground, var(--jp-content-font-color1, white)));\n",
       "    --sklearn-color-icon: #878787;\n",
       "  }\n",
       "}\n",
       "\n",
       "#sk-container-id-1 {\n",
       "  color: var(--sklearn-color-text);\n",
       "}\n",
       "\n",
       "#sk-container-id-1 pre {\n",
       "  padding: 0;\n",
       "}\n",
       "\n",
       "#sk-container-id-1 input.sk-hidden--visually {\n",
       "  border: 0;\n",
       "  clip: rect(1px 1px 1px 1px);\n",
       "  clip: rect(1px, 1px, 1px, 1px);\n",
       "  height: 1px;\n",
       "  margin: -1px;\n",
       "  overflow: hidden;\n",
       "  padding: 0;\n",
       "  position: absolute;\n",
       "  width: 1px;\n",
       "}\n",
       "\n",
       "#sk-container-id-1 div.sk-dashed-wrapped {\n",
       "  border: 1px dashed var(--sklearn-color-line);\n",
       "  margin: 0 0.4em 0.5em 0.4em;\n",
       "  box-sizing: border-box;\n",
       "  padding-bottom: 0.4em;\n",
       "  background-color: var(--sklearn-color-background);\n",
       "}\n",
       "\n",
       "#sk-container-id-1 div.sk-container {\n",
       "  /* jupyter's `normalize.less` sets `[hidden] { display: none; }`\n",
       "     but bootstrap.min.css set `[hidden] { display: none !important; }`\n",
       "     so we also need the `!important` here to be able to override the\n",
       "     default hidden behavior on the sphinx rendered scikit-learn.org.\n",
       "     See: https://github.com/scikit-learn/scikit-learn/issues/21755 */\n",
       "  display: inline-block !important;\n",
       "  position: relative;\n",
       "}\n",
       "\n",
       "#sk-container-id-1 div.sk-text-repr-fallback {\n",
       "  display: none;\n",
       "}\n",
       "\n",
       "div.sk-parallel-item,\n",
       "div.sk-serial,\n",
       "div.sk-item {\n",
       "  /* draw centered vertical line to link estimators */\n",
       "  background-image: linear-gradient(var(--sklearn-color-text-on-default-background), var(--sklearn-color-text-on-default-background));\n",
       "  background-size: 2px 100%;\n",
       "  background-repeat: no-repeat;\n",
       "  background-position: center center;\n",
       "}\n",
       "\n",
       "/* Parallel-specific style estimator block */\n",
       "\n",
       "#sk-container-id-1 div.sk-parallel-item::after {\n",
       "  content: \"\";\n",
       "  width: 100%;\n",
       "  border-bottom: 2px solid var(--sklearn-color-text-on-default-background);\n",
       "  flex-grow: 1;\n",
       "}\n",
       "\n",
       "#sk-container-id-1 div.sk-parallel {\n",
       "  display: flex;\n",
       "  align-items: stretch;\n",
       "  justify-content: center;\n",
       "  background-color: var(--sklearn-color-background);\n",
       "  position: relative;\n",
       "}\n",
       "\n",
       "#sk-container-id-1 div.sk-parallel-item {\n",
       "  display: flex;\n",
       "  flex-direction: column;\n",
       "}\n",
       "\n",
       "#sk-container-id-1 div.sk-parallel-item:first-child::after {\n",
       "  align-self: flex-end;\n",
       "  width: 50%;\n",
       "}\n",
       "\n",
       "#sk-container-id-1 div.sk-parallel-item:last-child::after {\n",
       "  align-self: flex-start;\n",
       "  width: 50%;\n",
       "}\n",
       "\n",
       "#sk-container-id-1 div.sk-parallel-item:only-child::after {\n",
       "  width: 0;\n",
       "}\n",
       "\n",
       "/* Serial-specific style estimator block */\n",
       "\n",
       "#sk-container-id-1 div.sk-serial {\n",
       "  display: flex;\n",
       "  flex-direction: column;\n",
       "  align-items: center;\n",
       "  background-color: var(--sklearn-color-background);\n",
       "  padding-right: 1em;\n",
       "  padding-left: 1em;\n",
       "}\n",
       "\n",
       "\n",
       "/* Toggleable style: style used for estimator/Pipeline/ColumnTransformer box that is\n",
       "clickable and can be expanded/collapsed.\n",
       "- Pipeline and ColumnTransformer use this feature and define the default style\n",
       "- Estimators will overwrite some part of the style using the `sk-estimator` class\n",
       "*/\n",
       "\n",
       "/* Pipeline and ColumnTransformer style (default) */\n",
       "\n",
       "#sk-container-id-1 div.sk-toggleable {\n",
       "  /* Default theme specific background. It is overwritten whether we have a\n",
       "  specific estimator or a Pipeline/ColumnTransformer */\n",
       "  background-color: var(--sklearn-color-background);\n",
       "}\n",
       "\n",
       "/* Toggleable label */\n",
       "#sk-container-id-1 label.sk-toggleable__label {\n",
       "  cursor: pointer;\n",
       "  display: flex;\n",
       "  width: 100%;\n",
       "  margin-bottom: 0;\n",
       "  padding: 0.5em;\n",
       "  box-sizing: border-box;\n",
       "  text-align: center;\n",
       "  align-items: start;\n",
       "  justify-content: space-between;\n",
       "  gap: 0.5em;\n",
       "}\n",
       "\n",
       "#sk-container-id-1 label.sk-toggleable__label .caption {\n",
       "  font-size: 0.6rem;\n",
       "  font-weight: lighter;\n",
       "  color: var(--sklearn-color-text-muted);\n",
       "}\n",
       "\n",
       "#sk-container-id-1 label.sk-toggleable__label-arrow:before {\n",
       "  /* Arrow on the left of the label */\n",
       "  content: \"▸\";\n",
       "  float: left;\n",
       "  margin-right: 0.25em;\n",
       "  color: var(--sklearn-color-icon);\n",
       "}\n",
       "\n",
       "#sk-container-id-1 label.sk-toggleable__label-arrow:hover:before {\n",
       "  color: var(--sklearn-color-text);\n",
       "}\n",
       "\n",
       "/* Toggleable content - dropdown */\n",
       "\n",
       "#sk-container-id-1 div.sk-toggleable__content {\n",
       "  max-height: 0;\n",
       "  max-width: 0;\n",
       "  overflow: hidden;\n",
       "  text-align: left;\n",
       "  /* unfitted */\n",
       "  background-color: var(--sklearn-color-unfitted-level-0);\n",
       "}\n",
       "\n",
       "#sk-container-id-1 div.sk-toggleable__content.fitted {\n",
       "  /* fitted */\n",
       "  background-color: var(--sklearn-color-fitted-level-0);\n",
       "}\n",
       "\n",
       "#sk-container-id-1 div.sk-toggleable__content pre {\n",
       "  margin: 0.2em;\n",
       "  border-radius: 0.25em;\n",
       "  color: var(--sklearn-color-text);\n",
       "  /* unfitted */\n",
       "  background-color: var(--sklearn-color-unfitted-level-0);\n",
       "}\n",
       "\n",
       "#sk-container-id-1 div.sk-toggleable__content.fitted pre {\n",
       "  /* unfitted */\n",
       "  background-color: var(--sklearn-color-fitted-level-0);\n",
       "}\n",
       "\n",
       "#sk-container-id-1 input.sk-toggleable__control:checked~div.sk-toggleable__content {\n",
       "  /* Expand drop-down */\n",
       "  max-height: 200px;\n",
       "  max-width: 100%;\n",
       "  overflow: auto;\n",
       "}\n",
       "\n",
       "#sk-container-id-1 input.sk-toggleable__control:checked~label.sk-toggleable__label-arrow:before {\n",
       "  content: \"▾\";\n",
       "}\n",
       "\n",
       "/* Pipeline/ColumnTransformer-specific style */\n",
       "\n",
       "#sk-container-id-1 div.sk-label input.sk-toggleable__control:checked~label.sk-toggleable__label {\n",
       "  color: var(--sklearn-color-text);\n",
       "  background-color: var(--sklearn-color-unfitted-level-2);\n",
       "}\n",
       "\n",
       "#sk-container-id-1 div.sk-label.fitted input.sk-toggleable__control:checked~label.sk-toggleable__label {\n",
       "  background-color: var(--sklearn-color-fitted-level-2);\n",
       "}\n",
       "\n",
       "/* Estimator-specific style */\n",
       "\n",
       "/* Colorize estimator box */\n",
       "#sk-container-id-1 div.sk-estimator input.sk-toggleable__control:checked~label.sk-toggleable__label {\n",
       "  /* unfitted */\n",
       "  background-color: var(--sklearn-color-unfitted-level-2);\n",
       "}\n",
       "\n",
       "#sk-container-id-1 div.sk-estimator.fitted input.sk-toggleable__control:checked~label.sk-toggleable__label {\n",
       "  /* fitted */\n",
       "  background-color: var(--sklearn-color-fitted-level-2);\n",
       "}\n",
       "\n",
       "#sk-container-id-1 div.sk-label label.sk-toggleable__label,\n",
       "#sk-container-id-1 div.sk-label label {\n",
       "  /* The background is the default theme color */\n",
       "  color: var(--sklearn-color-text-on-default-background);\n",
       "}\n",
       "\n",
       "/* On hover, darken the color of the background */\n",
       "#sk-container-id-1 div.sk-label:hover label.sk-toggleable__label {\n",
       "  color: var(--sklearn-color-text);\n",
       "  background-color: var(--sklearn-color-unfitted-level-2);\n",
       "}\n",
       "\n",
       "/* Label box, darken color on hover, fitted */\n",
       "#sk-container-id-1 div.sk-label.fitted:hover label.sk-toggleable__label.fitted {\n",
       "  color: var(--sklearn-color-text);\n",
       "  background-color: var(--sklearn-color-fitted-level-2);\n",
       "}\n",
       "\n",
       "/* Estimator label */\n",
       "\n",
       "#sk-container-id-1 div.sk-label label {\n",
       "  font-family: monospace;\n",
       "  font-weight: bold;\n",
       "  display: inline-block;\n",
       "  line-height: 1.2em;\n",
       "}\n",
       "\n",
       "#sk-container-id-1 div.sk-label-container {\n",
       "  text-align: center;\n",
       "}\n",
       "\n",
       "/* Estimator-specific */\n",
       "#sk-container-id-1 div.sk-estimator {\n",
       "  font-family: monospace;\n",
       "  border: 1px dotted var(--sklearn-color-border-box);\n",
       "  border-radius: 0.25em;\n",
       "  box-sizing: border-box;\n",
       "  margin-bottom: 0.5em;\n",
       "  /* unfitted */\n",
       "  background-color: var(--sklearn-color-unfitted-level-0);\n",
       "}\n",
       "\n",
       "#sk-container-id-1 div.sk-estimator.fitted {\n",
       "  /* fitted */\n",
       "  background-color: var(--sklearn-color-fitted-level-0);\n",
       "}\n",
       "\n",
       "/* on hover */\n",
       "#sk-container-id-1 div.sk-estimator:hover {\n",
       "  /* unfitted */\n",
       "  background-color: var(--sklearn-color-unfitted-level-2);\n",
       "}\n",
       "\n",
       "#sk-container-id-1 div.sk-estimator.fitted:hover {\n",
       "  /* fitted */\n",
       "  background-color: var(--sklearn-color-fitted-level-2);\n",
       "}\n",
       "\n",
       "/* Specification for estimator info (e.g. \"i\" and \"?\") */\n",
       "\n",
       "/* Common style for \"i\" and \"?\" */\n",
       "\n",
       ".sk-estimator-doc-link,\n",
       "a:link.sk-estimator-doc-link,\n",
       "a:visited.sk-estimator-doc-link {\n",
       "  float: right;\n",
       "  font-size: smaller;\n",
       "  line-height: 1em;\n",
       "  font-family: monospace;\n",
       "  background-color: var(--sklearn-color-background);\n",
       "  border-radius: 1em;\n",
       "  height: 1em;\n",
       "  width: 1em;\n",
       "  text-decoration: none !important;\n",
       "  margin-left: 0.5em;\n",
       "  text-align: center;\n",
       "  /* unfitted */\n",
       "  border: var(--sklearn-color-unfitted-level-1) 1pt solid;\n",
       "  color: var(--sklearn-color-unfitted-level-1);\n",
       "}\n",
       "\n",
       ".sk-estimator-doc-link.fitted,\n",
       "a:link.sk-estimator-doc-link.fitted,\n",
       "a:visited.sk-estimator-doc-link.fitted {\n",
       "  /* fitted */\n",
       "  border: var(--sklearn-color-fitted-level-1) 1pt solid;\n",
       "  color: var(--sklearn-color-fitted-level-1);\n",
       "}\n",
       "\n",
       "/* On hover */\n",
       "div.sk-estimator:hover .sk-estimator-doc-link:hover,\n",
       ".sk-estimator-doc-link:hover,\n",
       "div.sk-label-container:hover .sk-estimator-doc-link:hover,\n",
       ".sk-estimator-doc-link:hover {\n",
       "  /* unfitted */\n",
       "  background-color: var(--sklearn-color-unfitted-level-3);\n",
       "  color: var(--sklearn-color-background);\n",
       "  text-decoration: none;\n",
       "}\n",
       "\n",
       "div.sk-estimator.fitted:hover .sk-estimator-doc-link.fitted:hover,\n",
       ".sk-estimator-doc-link.fitted:hover,\n",
       "div.sk-label-container:hover .sk-estimator-doc-link.fitted:hover,\n",
       ".sk-estimator-doc-link.fitted:hover {\n",
       "  /* fitted */\n",
       "  background-color: var(--sklearn-color-fitted-level-3);\n",
       "  color: var(--sklearn-color-background);\n",
       "  text-decoration: none;\n",
       "}\n",
       "\n",
       "/* Span, style for the box shown on hovering the info icon */\n",
       ".sk-estimator-doc-link span {\n",
       "  display: none;\n",
       "  z-index: 9999;\n",
       "  position: relative;\n",
       "  font-weight: normal;\n",
       "  right: .2ex;\n",
       "  padding: .5ex;\n",
       "  margin: .5ex;\n",
       "  width: min-content;\n",
       "  min-width: 20ex;\n",
       "  max-width: 50ex;\n",
       "  color: var(--sklearn-color-text);\n",
       "  box-shadow: 2pt 2pt 4pt #999;\n",
       "  /* unfitted */\n",
       "  background: var(--sklearn-color-unfitted-level-0);\n",
       "  border: .5pt solid var(--sklearn-color-unfitted-level-3);\n",
       "}\n",
       "\n",
       ".sk-estimator-doc-link.fitted span {\n",
       "  /* fitted */\n",
       "  background: var(--sklearn-color-fitted-level-0);\n",
       "  border: var(--sklearn-color-fitted-level-3);\n",
       "}\n",
       "\n",
       ".sk-estimator-doc-link:hover span {\n",
       "  display: block;\n",
       "}\n",
       "\n",
       "/* \"?\"-specific style due to the `<a>` HTML tag */\n",
       "\n",
       "#sk-container-id-1 a.estimator_doc_link {\n",
       "  float: right;\n",
       "  font-size: 1rem;\n",
       "  line-height: 1em;\n",
       "  font-family: monospace;\n",
       "  background-color: var(--sklearn-color-background);\n",
       "  border-radius: 1rem;\n",
       "  height: 1rem;\n",
       "  width: 1rem;\n",
       "  text-decoration: none;\n",
       "  /* unfitted */\n",
       "  color: var(--sklearn-color-unfitted-level-1);\n",
       "  border: var(--sklearn-color-unfitted-level-1) 1pt solid;\n",
       "}\n",
       "\n",
       "#sk-container-id-1 a.estimator_doc_link.fitted {\n",
       "  /* fitted */\n",
       "  border: var(--sklearn-color-fitted-level-1) 1pt solid;\n",
       "  color: var(--sklearn-color-fitted-level-1);\n",
       "}\n",
       "\n",
       "/* On hover */\n",
       "#sk-container-id-1 a.estimator_doc_link:hover {\n",
       "  /* unfitted */\n",
       "  background-color: var(--sklearn-color-unfitted-level-3);\n",
       "  color: var(--sklearn-color-background);\n",
       "  text-decoration: none;\n",
       "}\n",
       "\n",
       "#sk-container-id-1 a.estimator_doc_link.fitted:hover {\n",
       "  /* fitted */\n",
       "  background-color: var(--sklearn-color-fitted-level-3);\n",
       "}\n",
       "</style><div id=\"sk-container-id-1\" class=\"sk-top-container\"><div class=\"sk-text-repr-fallback\"><pre>LinearRegression(n_jobs=-1)</pre><b>In a Jupyter environment, please rerun this cell to show the HTML representation or trust the notebook. <br />On GitHub, the HTML representation is unable to render, please try loading this page with nbviewer.org.</b></div><div class=\"sk-container\" hidden><div class=\"sk-item\"><div class=\"sk-estimator fitted sk-toggleable\"><input class=\"sk-toggleable__control sk-hidden--visually\" id=\"sk-estimator-id-1\" type=\"checkbox\" checked><label for=\"sk-estimator-id-1\" class=\"sk-toggleable__label fitted sk-toggleable__label-arrow\"><div><div>LinearRegression</div></div><div><a class=\"sk-estimator-doc-link fitted\" rel=\"noreferrer\" target=\"_blank\" href=\"https://scikit-learn.org/1.6/modules/generated/sklearn.linear_model.LinearRegression.html\">?<span>Documentation for LinearRegression</span></a><span class=\"sk-estimator-doc-link fitted\">i<span>Fitted</span></span></div></label><div class=\"sk-toggleable__content fitted\"><pre>LinearRegression(n_jobs=-1)</pre></div> </div></div></div></div>"
      ]
     },
     "execution_count": 18,
     "metadata": {},
     "output_type": "execute_result"
    }
   ],
   "execution_count": 18
  },
  {
   "cell_type": "code",
   "id": "a2b4810542c79588",
   "metadata": {
    "ExecuteTime": {
     "end_time": "2025-07-06T21:10:22.231048Z",
     "start_time": "2025-07-06T21:10:22.224415Z"
    }
   },
   "source": [
    "print(\"Coefficient or slope: \",regression.coef_)\n",
    "print(\"Intercept: \",regression.intercept_) ## which cuts y axis in y=mx + c"
   ],
   "outputs": [
    {
     "name": "stdout",
     "output_type": "stream",
     "text": [
      "Coefficient or slope:  [1.1844199]\n",
      "Intercept:  67.8268\n"
     ]
    }
   ],
   "execution_count": 19
  },
  {
   "cell_type": "markdown",
   "id": "8b6d0fca",
   "metadata": {},
   "source": [
    "###  Visualize the relationship\n",
    "Plot a scatter graph to visualize the relationship between weight and height."
   ]
  },
  {
   "cell_type": "code",
   "id": "54ef1b6dd8b7d9d3",
   "metadata": {
    "ExecuteTime": {
     "end_time": "2025-07-06T21:10:22.461609Z",
     "start_time": "2025-07-06T21:10:22.304477Z"
    }
   },
   "source": [
    "##plot training data plot best fit line\n",
    "plt.scatter(x_train,y_train)\n",
    "plt.plot(x_train,regression.predict(x_train),color =  'red')"
   ],
   "outputs": [
    {
     "data": {
      "text/plain": [
       "[<matplotlib.lines.Line2D at 0x1c3e153a4b0>]"
      ]
     },
     "execution_count": 20,
     "metadata": {},
     "output_type": "execute_result"
    },
    {
     "data": {
      "text/plain": [
       "<Figure size 640x480 with 1 Axes>"
      ],
      "image/png": "[encoded data removed]"
     },
     "metadata": {},
     "output_type": "display_data"
    }
   ],
   "execution_count": 20
  },
  {
   "cell_type": "markdown",
   "id": "cfaa2bb7",
   "metadata": {},
   "source": [
    "###  Make predictions\n",
    "Use the trained model to predict height from the test weight data."
   ]
  },
  {
   "cell_type": "code",
   "id": "cc82d781fd9af375",
   "metadata": {
    "ExecuteTime": {
     "end_time": "2025-07-06T21:10:22.484705Z",
     "start_time": "2025-07-06T21:10:22.479758Z"
    }
   },
   "source": [
    "##prediction for test data\n",
    "y_pred=regression.predict(x_test)"
   ],
   "outputs": [],
   "execution_count": 21
  },
  {
   "cell_type": "markdown",
   "id": "f281cc2c",
   "metadata": {},
   "source": [
    "###  Evaluate the model\n",
    "Use metrics like MAE, MSE, and RMSE to evaluate the performance of the model."
   ]
  },
  {
   "cell_type": "code",
   "id": "53c273c3e8c1e688",
   "metadata": {
    "ExecuteTime": {
     "end_time": "2025-07-06T21:10:22.539948Z",
     "start_time": "2025-07-06T21:10:22.534337Z"
    }
   },
   "source": [
    "##Performance metrics\n",
    "from sklearn.metrics import mean_absolute_error,mean_squared_error"
   ],
   "outputs": [],
   "execution_count": 22
  },
  {
   "cell_type": "code",
   "id": "cd245cabba5c388",
   "metadata": {
    "ExecuteTime": {
     "end_time": "2025-07-06T21:10:22.584921Z",
     "start_time": "2025-07-06T21:10:22.575365Z"
    }
   },
   "source": [
    "mse=mean_squared_error(y_test,y_pred)\n",
    "mae=mean_absolute_error(y_test,y_pred)\n",
    "rmse=np.sqrt(mse)\n",
    "print(mse)\n",
    "print(mae)\n",
    "print(rmse)"
   ],
   "outputs": [
    {
     "name": "stdout",
     "output_type": "stream",
     "text": [
      "2.8764172557433714\n",
      "1.3427929389639999\n",
      "1.6960003702073214\n"
     ]
    }
   ],
   "execution_count": 23
  },
  {
   "cell_type": "markdown",
   "id": "8ab6d335",
   "metadata": {},
   "source": [
    "###  Evaluate the model\n",
    "Use metrics like MAE, MSE, and RMSE to evaluate the performance of the model."
   ]
  },
  {
   "cell_type": "code",
   "id": "dacc8e18eb5d88d5",
   "metadata": {
    "ExecuteTime": {
     "end_time": "2025-07-06T21:10:22.618714Z",
     "start_time": "2025-07-06T21:10:22.613553Z"
    }
   },
   "source": [
    "from sklearn.metrics import r2_score"
   ],
   "outputs": [],
   "execution_count": 24
  },
  {
   "cell_type": "code",
   "id": "c3591f088508e64a",
   "metadata": {
    "ExecuteTime": {
     "end_time": "2025-07-06T21:10:22.677663Z",
     "start_time": "2025-07-06T21:10:22.671663Z"
    }
   },
   "source": [
    "score=r2_score(y_test,y_pred)\n",
    "print(score)"
   ],
   "outputs": [
    {
     "name": "stdout",
     "output_type": "stream",
     "text": [
      "0.05188474065459758\n"
     ]
    }
   ],
   "execution_count": 25
  },
  {
   "cell_type": "code",
   "id": "ca0bf6b439765bad",
   "metadata": {
    "ExecuteTime": {
     "end_time": "2025-07-06T21:10:22.748312Z",
     "start_time": "2025-07-06T21:10:22.741314Z"
    }
   },
   "source": [
    "#display adjusted R-Squared\n",
    "1 - (1-score)*(len(y_test) - 1)/(len(y_test)-x_test.shape[1] - 1)\n"
   ],
   "outputs": [
    {
     "data": {
      "text/plain": [
       "0.03213233941823501"
      ]
     },
     "execution_count": 26,
     "metadata": {},
     "output_type": "execute_result"
    }
   ],
   "execution_count": 26
  },
  {
   "cell_type": "code",
   "id": "9f244b73692201c1",
   "metadata": {
    "ExecuteTime": {
     "end_time": "2025-07-06T21:10:23.635598Z",
     "start_time": "2025-07-06T21:10:22.808286Z"
    }
   },
   "source": [
    "##OLS Linear regression\n",
    "import statsmodels.api as sm"
   ],
   "outputs": [],
   "execution_count": 27
  },
  {
   "cell_type": "markdown",
   "id": "516ce92b",
   "metadata": {},
   "source": [
    "###  Make predictions\n",
    "Use the trained model to predict height from the test weight data."
   ]
  },
  {
   "cell_type": "code",
   "id": "a0975108adf2170a",
   "metadata": {
    "ExecuteTime": {
     "end_time": "2025-07-06T21:10:23.664652Z",
     "start_time": "2025-07-06T21:10:23.654310Z"
    }
   },
   "source": [
    "model = sm.OLS(y_train,x_train).fit()\n",
    "prediction = model.predict(x_test)\n",
    "print(prediction)"
   ],
   "outputs": [
    {
     "name": "stdout",
     "output_type": "stream",
     "text": [
      "[ 0.4591054   1.27184505 -2.36566046  1.15092524  1.29563255  0.13698297\n",
      " -0.24163477 -0.4517577   1.20246483  0.15779704  1.51665809 -1.78385781\n",
      "  0.00714286 -1.1445687   0.06958505 -0.82046398  2.84776705 -0.62917282\n",
      "  2.79622746 -2.34286411 -2.01281252  0.23114184  0.35602622 -1.48948747\n",
      " -1.74024739  0.1548236   0.191496    0.55326426 -0.38435978 -1.15051557\n",
      " -0.64404001  1.0637044   2.05385917 -0.68071241 -0.17522799 -1.24963016\n",
      "  0.8714221  -0.03448527  0.11319547  1.13308462 -0.46067801  0.11220433\n",
      "  0.41450383  1.45520704  0.10923089 -0.62719053 -1.31603694 -0.31002383\n",
      "  0.04084182  1.36005703]\n"
     ]
    }
   ],
   "execution_count": 28
  },
  {
   "cell_type": "code",
   "id": "89ca4a8227cec6a7",
   "metadata": {
    "ExecuteTime": {
     "end_time": "2025-07-06T21:10:23.717837Z",
     "start_time": "2025-07-06T21:10:23.698720Z"
    }
   },
   "source": [
    "print(model.summary())"
   ],
   "outputs": [
    {
     "name": "stdout",
     "output_type": "stream",
     "text": [
      "                                 OLS Regression Results                                \n",
      "=======================================================================================\n",
      "Dep. Variable:        Height (Inches)   R-squared (uncentered):                   0.000\n",
      "Model:                            OLS   Adj. R-squared (uncentered):             -0.006\n",
      "Method:                 Least Squares   F-statistic:                            0.04541\n",
      "Date:                Mon, 07 Jul 2025   Prob (F-statistic):                       0.832\n",
      "Time:                        02:40:23   Log-Likelihood:                         -845.43\n",
      "No. Observations:                 150   AIC:                                      1693.\n",
      "Df Residuals:                     149   BIC:                                      1696.\n",
      "Df Model:                           1                                                  \n",
      "Covariance Type:            nonrobust                                                  \n",
      "==============================================================================\n",
      "                 coef    std err          t      P>|t|      [0.025      0.975]\n",
      "------------------------------------------------------------------------------\n",
      "x1             1.1844      5.558      0.213      0.832      -9.798      12.167\n",
      "==============================================================================\n",
      "Omnibus:                        0.298   Durbin-Watson:                   0.001\n",
      "Prob(Omnibus):                  0.862   Jarque-Bera (JB):                0.459\n",
      "Skew:                           0.053   Prob(JB):                        0.795\n",
      "Kurtosis:                       2.750   Cond. No.                         1.00\n",
      "==============================================================================\n",
      "\n",
      "Notes:\n",
      "[1] R² is computed without centering (uncentered) since the model does not contain a constant.\n",
      "[2] Standard Errors assume that the covariance matrix of the errors is correctly specified.\n"
     ]
    }
   ],
   "execution_count": 29
  },
  {
   "metadata": {},
   "cell_type": "markdown",
   "source": [
    "### We are predicting height(inches) using weight(pounds)\n",
    "Enter you weight to predict height"
   ],
   "id": "4bb3c996ac1ff74b"
  },
  {
   "cell_type": "code",
   "id": "8ce5af8de320b947",
   "metadata": {
    "ExecuteTime": {
     "end_time": "2025-07-06T21:10:23.831512Z",
     "start_time": "2025-07-06T21:10:23.824907Z"
    }
   },
   "source": [
    "##Prediction of new data\n",
    "regression.predict([[110]])"
   ],
   "outputs": [
    {
     "data": {
      "text/plain": [
       "array([198.11298855])"
      ]
     },
     "execution_count": 30,
     "metadata": {},
     "output_type": "execute_result"
    }
   ],
   "execution_count": 30
  },
  {
   "cell_type": "code",
   "id": "8077733710b862c8",
   "metadata": {
    "ExecuteTime": {
     "end_time": "2025-07-06T21:10:23.861845Z",
     "start_time": "2025-07-06T21:10:23.859425Z"
    }
   },
   "source": [],
   "outputs": [],
   "execution_count": null
  },
  {
   "cell_type": "code",
   "id": "812991bfbfa675d9",
   "metadata": {
    "ExecuteTime": {
     "end_time": "2025-07-06T21:10:23.897682Z",
     "start_time": "2025-07-06T21:10:23.894225Z"
    }
   },
   "source": [],
   "outputs": [],
   "execution_count": null
  },
  {
   "cell_type": "code",
   "id": "3fa61238f1fd85ce",
   "metadata": {
    "ExecuteTime": {
     "end_time": "2025-07-06T21:10:23.933820Z",
     "start_time": "2025-07-06T21:10:23.931350Z"
    }
   },
   "source": [],
   "outputs": [],
   "execution_count": null
  }
 ],
 "metadata": {
  "kernelspec": {
   "name": "python3",
   "language": "python",
   "display_name": "Python 3 (ipykernel)"
  }
 },
 "nbformat": 4,
 "nbformat_minor": 5
}
